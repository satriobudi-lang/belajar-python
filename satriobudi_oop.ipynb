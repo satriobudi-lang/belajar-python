{
 "cells": [
  {
   "cell_type": "markdown",
   "metadata": {},
   "source": [
    "Parent Class"
   ]
  },
  {
   "cell_type": "code",
   "execution_count": 2,
   "metadata": {},
   "outputs": [],
   "source": [
    "class Hewan:\n",
    "  \n",
    "  nama_latin = 'Animalia'\n",
    "\n",
    "  def __init__(self, nama, umur):\n",
    "    self.nama = nama\n",
    "    self.umur = umur\n",
    "\n",
    "  def print_deskripsi(self):\n",
    "    print(f'''\n",
    "    deskripsi hewan:\n",
    "    hewan: {self.nama}\n",
    "    umur: {self.umur}\n",
    "    ''')\n",
    "\n",
    "  @classmethod\n",
    "  def change_nama_latin(cls, nama_latin):\n",
    "    cls.nama_latin = nama_latin  \n"
   ]
  },
  {
   "cell_type": "markdown",
   "metadata": {},
   "source": [
    "Child Class"
   ]
  },
  {
   "cell_type": "code",
   "execution_count": 3,
   "metadata": {},
   "outputs": [],
   "source": [
    "class Kucing(Hewan):\n",
    "\n",
    "  nama_latin = 'pertamax'\n",
    "  min_kecepatan = 10\n",
    "\n",
    "  def __init__(self, nama, umur, kecepatan):\n",
    "    Hewan.__init__(self, nama, umur)\n",
    "    Hewan.change_nama_latin(Kucing.nama_latin)\n",
    "    if kecepatan > Kucing.min_kecepatan:\n",
    "      self.kecepatan = Kucing.min_kecepatan\n",
    "    else:\n",
    "      self.kecepatan = kecepatan\n",
    "\n",
    "  def print_lari(self):\n",
    "    print(f'speed limit mobil ini adalah {self.kecepatan}')"
   ]
  },
  {
   "cell_type": "markdown",
   "metadata": {},
   "source": [
    "Override method print_deskripsi()"
   ]
  },
  {
   "cell_type": "code",
   "execution_count": 4,
   "metadata": {},
   "outputs": [],
   "source": [
    "class Kucing(Hewan):\n",
    "\n",
    "  nama_latin = 'pertamax'\n",
    "  min_kecepatan = 10\n",
    "\n",
    "  def __init__(self, nama, umur, kecepatan):\n",
    "    Hewan.__init__(self, nama, umur)\n",
    "    Hewan.change_nama_latin(Kucing.nama_latin)\n",
    "    if kecepatan > Kucing.min_kecepatan:\n",
    "      self.kecepatan = Kucing.min_kecepatan\n",
    "      print('Cepat Sekali')\n",
    "    else:\n",
    "      self.kecepatan = kecepatan\n",
    "      print('Lambat')\n",
    "  \n",
    "  def bangun(self):\n",
    "      print(f'''\n",
    "      deskripsi hewan:\n",
    "      nama: {self.nama}\n",
    "      umur: {self.umur}\n",
    "      nama_latin: {Hewan.nama_latin}\n",
    "      kecepatan: {self.kecepatan}''')\n",
    "\n",
    "  def print_lari(self):\n",
    "    print(f'kecepatan hewan ini adalah ini adalah {self.kecepatan}')"
   ]
  },
  {
   "cell_type": "code",
   "execution_count": 5,
   "metadata": {},
   "outputs": [
    {
     "name": "stdout",
     "output_type": "stream",
     "text": [
      "Cepat Sekali\n"
     ]
    }
   ],
   "source": [
    "Kucing_Anggora = Kucing(nama='Kucing_Anggora', umur=10 , kecepatan=80)"
   ]
  },
  {
   "cell_type": "code",
   "execution_count": 6,
   "metadata": {},
   "outputs": [
    {
     "name": "stdout",
     "output_type": "stream",
     "text": [
      "kecepatan hewan ini adalah ini adalah 10\n"
     ]
    }
   ],
   "source": [
    "Kucing_Anggora.print_lari()"
   ]
  },
  {
   "cell_type": "code",
   "execution_count": 7,
   "metadata": {},
   "outputs": [
    {
     "name": "stdout",
     "output_type": "stream",
     "text": [
      "\n",
      "      deskripsi hewan:\n",
      "      nama: Kucing_Anggora\n",
      "      umur: 10\n",
      "      nama_latin: pertamax\n",
      "      kecepatan: 10\n"
     ]
    }
   ],
   "source": [
    "Kucing_Anggora.bangun()"
   ]
  }
 ],
 "metadata": {
  "interpreter": {
   "hash": "cdb47a8b17c8ff27c2d6aa4b0986aa1cd9e75fce73e3c9df0308ba4334b562d2"
  },
  "kernelspec": {
   "display_name": "Python 3.8.8 64-bit",
   "language": "python",
   "name": "python3"
  },
  "language_info": {
   "codemirror_mode": {
    "name": "ipython",
    "version": 3
   },
   "file_extension": ".py",
   "mimetype": "text/x-python",
   "name": "python",
   "nbconvert_exporter": "python",
   "pygments_lexer": "ipython3",
   "version": "3.8.8"
  },
  "orig_nbformat": 4
 },
 "nbformat": 4,
 "nbformat_minor": 2
}
